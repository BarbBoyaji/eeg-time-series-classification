{
  "nbformat": 4,
  "nbformat_minor": 0,
  "metadata": {
    "colab": {
      "name": "LSTM_FCN_Combination_Model.ipynb",
      "provenance": [],
      "collapsed_sections": []
    },
    "kernelspec": {
      "name": "python3",
      "display_name": "Python 3"
    },
    "accelerator": "GPU"
  },
  "cells": [
    {
      "cell_type": "code",
      "metadata": {
        "id": "mA-kOGi_09ba",
        "colab_type": "code",
        "outputId": "ba9d146e-0798-4850-b34b-bcea0a42a2c5",
        "colab": {
          "base_uri": "https://localhost:8080/",
          "height": 34
        }
      },
      "source": [
        "from google.colab import drive\n",
        "drive.mount('/content/gdrive')"
      ],
      "execution_count": 1,
      "outputs": [
        {
          "output_type": "stream",
          "text": [
            "Drive already mounted at /content/gdrive; to attempt to forcibly remount, call drive.mount(\"/content/gdrive\", force_remount=True).\n"
          ],
          "name": "stdout"
        }
      ]
    },
    {
      "cell_type": "code",
      "metadata": {
        "id": "NrKgfdzU1CD0",
        "colab_type": "code",
        "colab": {}
      },
      "source": [
        "import sys\n",
        "\n",
        "sys.path.append('/content/gdrive/My Drive/Colab Notebooks/ECE_Project')"
      ],
      "execution_count": 0,
      "outputs": []
    },
    {
      "cell_type": "code",
      "metadata": {
        "id": "Wj0DnzHZ1KS8",
        "colab_type": "code",
        "colab": {}
      },
      "source": [
        "import CNN_Lib\n",
        "import CNN_BuildingBlock_Lib as BB\n",
        "import RNN_BuildingBlock_Lib as RNN_BB\n",
        "import CombinationModel as ComboCNN\n",
        "import CombinationModel_RNN_CNN as RNN_CNN\n",
        "import CombinationModel_LSTM_FCN as LSTM_FCN\n",
        "import numpy as np \n",
        "import torch\n",
        "from torch.autograd import Variable\n",
        "import torch.nn.functional as F\n",
        "import random\n",
        "import pdb\n",
        "import copy\n"
      ],
      "execution_count": 0,
      "outputs": []
    },
    {
      "cell_type": "code",
      "metadata": {
        "id": "0Tshz25P1V4t",
        "colab_type": "code",
        "outputId": "9b95e85d-bfb5-40b1-c972-a13fe6cf6aa3",
        "colab": {
          "base_uri": "https://localhost:8080/",
          "height": 119
        }
      },
      "source": [
        "dir = '/content/gdrive/My Drive/Colab Notebooks/ECE_Project'\n",
        "X_test = np.load(dir + '/X_test.npy')\n",
        "y_test = np.load(dir + '/y_test.npy')\n",
        "person_train_valid = np.load(dir + '/person_train_valid.npy')\n",
        "X_train_valid = np.load(dir + '/X_train_valid.npy')\n",
        "y_train_valid = np.load(dir + '/y_train_valid.npy')\n",
        "person_test = np.load(dir + '/person_test.npy')\n",
        "print ('Training/Valid data shape: {}' .format(X_train_valid.shape))\n",
        "print ('Test data shape: {}' .format(X_test.shape))\n",
        "print ('Training/Valid target shape: {}' .format(y_train_valid.shape))\n",
        "print ('Test target shape: {}' .format(y_test.shape))\n",
        "print ('Person train/valid shape: {}' .format(person_train_valid.shape))\n",
        "print ('Person test shape: {}' .format(person_test.shape))\n"
      ],
      "execution_count": 4,
      "outputs": [
        {
          "output_type": "stream",
          "text": [
            "Training/Valid data shape: (2115, 22, 1000)\n",
            "Test data shape: (443, 22, 1000)\n",
            "Training/Valid target shape: (2115,)\n",
            "Test target shape: (443,)\n",
            "Person train/valid shape: (2115, 1)\n",
            "Person test shape: (443, 1)\n"
          ],
          "name": "stdout"
        }
      ]
    },
    {
      "cell_type": "code",
      "metadata": {
        "id": "j28b_XSI1bS0",
        "colab_type": "code",
        "colab": {}
      },
      "source": [
        "#transform data into torch-readable data types\n",
        "#2115 number of trials from 9 people\n",
        "#four possible classes of outputs\n",
        "#Xtrain = Variable(torch.from_numpy(X_train_valid)).cuda()\n",
        "#ytrain = Variable(torch.from_numpy(y_train_valid)).cuda()\n",
        "#Xtest = Variable(torch.from_numpy(X_test)).cuda()\n",
        "#ytest = Variable(torch.from_numpy(y_test)).cuda()\n",
        "\n",
        "Xtrain = torch.from_numpy(X_train_valid)\n",
        "Ytrain = torch.from_numpy(y_train_valid)\n",
        "Xtest = torch.from_numpy(X_test)\n",
        "Ytest = torch.from_numpy(y_test)\n",
        "\n"
      ],
      "execution_count": 0,
      "outputs": []
    },
    {
      "cell_type": "code",
      "metadata": {
        "id": "t2HXEsfHoGAZ",
        "colab_type": "code",
        "colab": {}
      },
      "source": [
        "def map_to_class(input_labels):\n",
        "  mask1 = (input_labels == 769)*0\n",
        "  mask2 = (input_labels == 770)*1\n",
        "  mask3 = (input_labels == 771)*2\n",
        "  mask4 = (input_labels == 772)*3\n",
        "\n",
        "  return (mask1 + mask2 + mask3 + mask4)"
      ],
      "execution_count": 0,
      "outputs": []
    },
    {
      "cell_type": "code",
      "metadata": {
        "id": "U3fG1a761dS8",
        "colab_type": "code",
        "colab": {
          "base_uri": "https://localhost:8080/",
          "height": 476
        },
        "outputId": "6874e965-5d3b-4186-faed-5a734c18e918"
      },
      "source": [
        "########## INITIALIZE LSTM-FCN COMBINATION MODEL ########## \n",
        "\n",
        "Trials, InputDim, SeqDim = X_train_valid.shape\n",
        "num_features = InputDim\n",
        "Tests = y_test.shape\n",
        "\n",
        "\n",
        "#-----RNN tweak here----#\n",
        "hidden_dim = 32 #above 150 and we get low training accuracy\n",
        "num_layers = 1 #increasing this makes training take MUCH longer, similar validation and lower training accuracy\n",
        "nonlinearity = 'tanh'\n",
        "initialization = 'xavierNorm'\n",
        "\n",
        "\n",
        "#-----CNN tweak here----#\n",
        "num_filters = [64, 64, 32] #64, 32, 32 up to 70% V, and 64, 64, 32 plateud at ~61-63% after Epoch 1 then increased to 67% | 72 max\n",
        "batch_size = 30   #smaller batch sizes (less than 50) offer a regularization effect | must be less than 423 bc we are using kfold validation of 5\n",
        "num_classes = 4\n",
        "L2 = 0.22 #higher than 0.25 and the validation doesnt reach 70\n",
        "cnnfilter_stride = [2, 1, 1] #big filter stride makes training to acceptable validation take longer. \n",
        "cnnfilter_size = [10, 3, 3] #smaller filter size appears to make higher validation from the beginning. lower than 2 is pretty bad?\n",
        "cnn_padding = ['same', 'same', 'same']\n",
        "use_bias = [False, True, False]\n",
        "use_maxpool = [False, False, False] #not using it makes the model overfit\n",
        "pool_size = [5, 3, 2]\n",
        "pool_stride = [2, 1, 1]\n",
        "use_batchnorm = [True, True, True]\n",
        "eps = [1e-4, 1e-4, 1e-4]\n",
        "momentum = [0.3, 0.8, 0.5]\n",
        "affine = [False, False, False]\n",
        "dropout = [0.13, 0.21, 0.1, 0.55]\n",
        "\n",
        "#-----OPTIM tweak here----#\n",
        "learning_rate = 0.0001 #0 we trained faster with this vs 0.0001 \n",
        "\n",
        "combo_model = LSTM_FCN.CombinationModel_LSTM_FCN(InputDim, SeqDim, hidden_dim, num_layers, num_filters, cnnfilter_size, cnnfilter_stride, cnn_padding, use_bias, num_classes, use_maxpool, pool_size, pool_stride, use_batchnorm, eps, momentum, affine, dropout)\n",
        "combo_model.to('cuda:0') #--- activate the GPU\n"
      ],
      "execution_count": 7,
      "outputs": [
        {
          "output_type": "stream",
          "text": [
            "> /content/gdrive/My Drive/Colab Notebooks/ECE_Project/CombinationModel_LSTM_FCN.py(59)__init__()\n",
            "-> self.FC1 = nn.Linear(self.CNN_Block3.Lout*self.CNN_Block3.out_channels, self.CNN_Block3.Lout)\n",
            "(Pdb) c\n"
          ],
          "name": "stdout"
        },
        {
          "output_type": "execute_result",
          "data": {
            "text/plain": [
              "CombinationModel_LSTM_FCN(\n",
              "  (LSTM): LSTM(22, 32)\n",
              "  (CNN_Block1): EEG_CNN_BuildingBlock(\n",
              "    (CNN): Conv1d(22, 64, kernel_size=(10,), stride=(2,), padding=(504,), bias=False)\n",
              "    (RELU): ReLU()\n",
              "    (BatchNorm): BatchNorm1d(64, eps=0.0001, momentum=0.3, affine=False, track_running_stats=True)\n",
              "    (DropOut): Dropout(p=0.13, inplace=False)\n",
              "  )\n",
              "  (CNN_Block2): EEG_CNN_BuildingBlock(\n",
              "    (CNN): Conv1d(64, 64, kernel_size=(3,), stride=(1,), padding=(1,))\n",
              "    (RELU): ReLU()\n",
              "    (BatchNorm): BatchNorm1d(64, eps=0.0001, momentum=0.8, affine=False, track_running_stats=True)\n",
              "    (DropOut): Dropout(p=0.21, inplace=False)\n",
              "  )\n",
              "  (CNN_Block3): EEG_CNN_BuildingBlock(\n",
              "    (CNN): Conv1d(64, 32, kernel_size=(3,), stride=(1,), padding=(1,), bias=False)\n",
              "    (RELU): ReLU()\n",
              "    (BatchNorm): BatchNorm1d(32, eps=0.0001, momentum=0.5, affine=False, track_running_stats=True)\n",
              "    (DropOut): Dropout(p=0.1, inplace=False)\n",
              "  )\n",
              "  (FC1): Linear(in_features=32000, out_features=1000, bias=True)\n",
              "  (DropOutFC): Dropout(p=0.55, inplace=False)\n",
              "  (FC2): Linear(in_features=1000, out_features=4, bias=True)\n",
              ")"
            ]
          },
          "metadata": {
            "tags": []
          },
          "execution_count": 7
        }
      ]
    },
    {
      "cell_type": "code",
      "metadata": {
        "id": "q300uxJ723su",
        "colab_type": "code",
        "colab": {}
      },
      "source": [
        "########## CHOOSE LOSS  ###########\n",
        "loss = torch.nn.CrossEntropyLoss()\n",
        "\n",
        "######### CHOOSE OPTIMIZER ########\n",
        "optim = torch.optim.Adam(combo_model.parameters(), lr=learning_rate, weight_decay=L2)\n",
        "#optim = torch.optim.Adadelta(combo_model.parameters()) << does worse than Adam, we overfit so much "
      ],
      "execution_count": 0,
      "outputs": []
    },
    {
      "cell_type": "code",
      "metadata": {
        "id": "OTS1xtw2j3PR",
        "colab_type": "code",
        "outputId": "573e6318-7ddc-4890-f447-120f8f3938ca",
        "colab": {
          "base_uri": "https://localhost:8080/",
          "height": 766
        }
      },
      "source": [
        "######## TRAIN IT ########\n",
        "#------ With Early Stopping AND K-Fold Validation -----#\n",
        "stop_now = False\n",
        "loss_store = []\n",
        "validation_store = []\n",
        "training_store = []\n",
        "network_store = []\n",
        "model_store = []\n",
        "\n",
        "epochs = 1\n",
        "kfolds = 15\n",
        "iterations = 1500\n",
        "iter_ = 0\n",
        "validate_fold = 0\n",
        "SEED = 2000\n",
        "\n",
        "#k fold validation here\n",
        "np.random.seed(random.randint(1,SEED))\n",
        "fold_size = int(Trials/kfolds)\n",
        "idx = np.arange(Trials)\n",
        "np.random.shuffle(idx)\n",
        "Xtrain_Shuffled = Xtrain[idx]\n",
        "Ytrain_Shuffled = Ytrain[idx]\n",
        "\n",
        "FoldsX = Xtrain_Shuffled.split(fold_size)\n",
        "FoldsY = Ytrain_Shuffled.split(fold_size)\n",
        "\n",
        "for epoch in range(epochs):\n",
        "  if stop_now:\n",
        "    break\n",
        "\n",
        "  print(f\"...... Training for Epoch {epoch} ......\")\n",
        "  train_correct = 0\n",
        "  train_total = 0\n",
        "\n",
        "\n",
        "  for k in range(kfolds): \n",
        "\n",
        "    #create training folds by excluding validate fold\n",
        "    train_folds = list(range(kfolds))\n",
        "    del train_folds[validate_fold]\n",
        "    train_folds = np.array(train_folds)\n",
        "\n",
        "    TrainX = torch.cat([FoldsX[f] for f in train_folds]) \n",
        "    TrainY = torch.cat([FoldsY[f] for f in train_folds])\n",
        "    #create validate fold\n",
        "    ValidateX = FoldsX[validate_fold]\n",
        "    ValidateY = FoldsY[validate_fold]\n",
        "\n",
        "    #initialize the network within the kfold loop\n",
        "    combo_model = LSTM_FCN.CombinationModel_LSTM_FCN(InputDim, SeqDim, hidden_dim, num_layers, \n",
        "                                                     num_filters, cnnfilter_size, cnnfilter_stride, \n",
        "                                                     cnn_padding, use_bias, num_classes, use_maxpool, \n",
        "                                                     pool_size, pool_stride, use_batchnorm, eps, momentum, \n",
        "                                                     affine, dropout)\n",
        "\n",
        "    combo_model.to('cuda:0') #--- activate the GPU\n",
        "    optim = torch.optim.Adam(combo_model.parameters(), lr=learning_rate, weight_decay=L2) \n",
        "    \n",
        "\n",
        "    print(f\"______ Training for k-folds {train_folds} ______\")\n",
        "    for i in range(iterations):\n",
        "      #do the batches\n",
        "      idx = np.arange(TrainX.size(0))\n",
        "      np.random.shuffle(idx)\n",
        "      idx = idx[0:batch_size]\n",
        "\n",
        "      #process the input data\n",
        "      xtrain = TrainX[idx].view(batch_size, SeqDim, InputDim)\n",
        "      xtrain = xtrain.to('cuda:0').requires_grad_()\n",
        "      ytrain = TrainY[idx]\n",
        "\n",
        "      #put the model in training mode\n",
        "      combo_model.train(True)\n",
        "\n",
        "      #forward pass\n",
        "      optim.zero_grad()\n",
        "      outFC = combo_model.forward(xtrain.float())\n",
        "  \n",
        "      #map to classes\n",
        "      classes = map_to_class(ytrain.long())\n",
        "      classes = torch.cat((classes, classes))\n",
        "      classes = classes.to('cuda:0')\n",
        "\n",
        "      #backward pass (gradient calculation)\n",
        "      probs = loss(outFC, classes)\n",
        "      probs.backward()\n",
        "\n",
        "      #update weights\n",
        "      optim.step()\n",
        "\n",
        "      #update iter counter\n",
        "      iter_+=1\n",
        "\n",
        "      #calculate training accuracy\n",
        "      train_pred = F.softmax(outFC, 1)\n",
        "      values, expected_classes = torch.max(train_pred, 1)\n",
        "      train_correct += (1*(expected_classes == classes)).sum()\n",
        "      train_total += float(classes.size(0))\n",
        "\n",
        "    print(f\"______ Validating for k-fold {k} ______\")\n",
        "    combo_model.eval()\n",
        "    \n",
        "    total = 0\n",
        "    correct = 0\n",
        "\n",
        "    #process the input data\n",
        "    idx = np.random.randint(0, Tests, size=batch_size)\n",
        "    xvalid = ValidateX.view(-1, SeqDim, InputDim)\n",
        "    xvalid = xvalid.to('cuda:0')\n",
        "    yvalid = ValidateY\n",
        "\n",
        "    #forward prop\n",
        "    predict = combo_model(xvalid.float())\n",
        "    \n",
        "    #predict\n",
        "    pred = F.softmax(predict, 1)\n",
        "    values, predicted_classes = torch.max(pred, 1)\n",
        "    expected_classes = map_to_class(yvalid)\n",
        "    expected_classes = torch.cat((expected_classes, expected_classes))        \n",
        "    correct += (1*(predicted_classes == expected_classes.to('cuda:0'))).sum()\n",
        "    total +=float(predicted_classes.size(0))\n",
        "    \n",
        "    #evaluate\n",
        "    validation_accuracy = 100*(correct/total)\n",
        "    training_accuracy = 100*(train_correct/train_total)\n",
        "\n",
        "    print(f\"correct: {correct}, total: {total}\")\n",
        "    #print(f\"prediction: {predicted_classes}\\nexpected_classes: {expected_classes}\")\n",
        "    print(f\"Iteration: {iter_}, Loss: {probs.item()}, Validation Accuracy: {validation_accuracy}%, Training Accuracy: {training_accuracy}%\\n\")  \n",
        "\n",
        "    #store info for graphing later\n",
        "    validation_store.append(validation_accuracy)\n",
        "    loss_store.append(probs)\n",
        "    training_store.append(training_accuracy)\n",
        "\n",
        "    #store the model\n",
        "    model_store.append(copy.deepcopy(combo_model))\n",
        "\n",
        "    #iterate the validate fold\n",
        "    validate_fold +=1\n",
        "    \n",
        "    #--- Early stopping criterion here --- #\n",
        "    if validation_accuracy > 73.0:\n",
        "      #store\n",
        "      print(\"Early Stopping!\")\n",
        "      stop_now = True\n",
        "      break\n",
        "    \n"
      ],
      "execution_count": 10,
      "outputs": [
        {
          "output_type": "stream",
          "text": [
            "...... Training for Epoch 0 ......\n",
            "> /content/gdrive/My Drive/Colab Notebooks/ECE_Project/CombinationModel_LSTM_FCN.py(59)__init__()\n",
            "-> self.FC1 = nn.Linear(self.CNN_Block3.Lout*self.CNN_Block3.out_channels, self.CNN_Block3.Lout)\n",
            "(Pdb) c\n",
            "______ Training for k-folds [ 1  2  3  4  5  6  7  8  9 10 11 12 13 14] ______\n",
            "______ Validating for k-fold 0 ______\n",
            "correct: 118, total: 282.0\n",
            "Iteration: 1500, Loss: 0.6957105398178101, Validation Accuracy: 41.843971252441406%, Training Accuracy: 69.7522201538086%\n",
            "\n",
            "> /content/gdrive/My Drive/Colab Notebooks/ECE_Project/CombinationModel_LSTM_FCN.py(59)__init__()\n",
            "-> self.FC1 = nn.Linear(self.CNN_Block3.Lout*self.CNN_Block3.out_channels, self.CNN_Block3.Lout)\n",
            "(Pdb) n\n",
            "> /content/gdrive/My Drive/Colab Notebooks/ECE_Project/CombinationModel_LSTM_FCN.py(62)__init__()\n",
            "-> self.DropOutFC = nn.Dropout(dropout[3])\n",
            "(Pdb) c\n",
            "______ Training for k-folds [ 0  2  3  4  5  6  7  8  9 10 11 12 13 14] ______\n",
            "______ Validating for k-fold 1 ______\n",
            "correct: 97, total: 282.0\n",
            "Iteration: 3000, Loss: 0.6611027121543884, Validation Accuracy: 34.397159576416016%, Training Accuracy: 70.820556640625%\n",
            "\n",
            "> /content/gdrive/My Drive/Colab Notebooks/ECE_Project/CombinationModel_LSTM_FCN.py(59)__init__()\n",
            "-> self.FC1 = nn.Linear(self.CNN_Block3.Lout*self.CNN_Block3.out_channels, self.CNN_Block3.Lout)\n",
            "(Pdb) q\n"
          ],
          "name": "stdout"
        },
        {
          "output_type": "error",
          "ename": "BdbQuit",
          "evalue": "ignored",
          "traceback": [
            "\u001b[0;31m---------------------------------------------------------------------------\u001b[0m",
            "\u001b[0;31mBdbQuit\u001b[0m                                   Traceback (most recent call last)",
            "\u001b[0;32m<ipython-input-10-c52fef014b18>\u001b[0m in \u001b[0;36m<module>\u001b[0;34m()\u001b[0m\n\u001b[1;32m     51\u001b[0m                                                      \u001b[0mcnn_padding\u001b[0m\u001b[0;34m,\u001b[0m \u001b[0muse_bias\u001b[0m\u001b[0;34m,\u001b[0m \u001b[0mnum_classes\u001b[0m\u001b[0;34m,\u001b[0m \u001b[0muse_maxpool\u001b[0m\u001b[0;34m,\u001b[0m\u001b[0;34m\u001b[0m\u001b[0;34m\u001b[0m\u001b[0m\n\u001b[1;32m     52\u001b[0m                                                      \u001b[0mpool_size\u001b[0m\u001b[0;34m,\u001b[0m \u001b[0mpool_stride\u001b[0m\u001b[0;34m,\u001b[0m \u001b[0muse_batchnorm\u001b[0m\u001b[0;34m,\u001b[0m \u001b[0meps\u001b[0m\u001b[0;34m,\u001b[0m \u001b[0mmomentum\u001b[0m\u001b[0;34m,\u001b[0m\u001b[0;34m\u001b[0m\u001b[0;34m\u001b[0m\u001b[0m\n\u001b[0;32m---> 53\u001b[0;31m                                                      affine, dropout)\n\u001b[0m\u001b[1;32m     54\u001b[0m \u001b[0;34m\u001b[0m\u001b[0m\n\u001b[1;32m     55\u001b[0m     \u001b[0mcombo_model\u001b[0m\u001b[0;34m.\u001b[0m\u001b[0mto\u001b[0m\u001b[0;34m(\u001b[0m\u001b[0;34m'cuda:0'\u001b[0m\u001b[0;34m)\u001b[0m \u001b[0;31m#--- activate the GPU\u001b[0m\u001b[0;34m\u001b[0m\u001b[0;34m\u001b[0m\u001b[0m\n",
            "\u001b[0;32m/content/gdrive/My Drive/Colab Notebooks/ECE_Project/CombinationModel_LSTM_FCN.py\u001b[0m in \u001b[0;36m__init__\u001b[0;34m(self, in_channels, seq_len, hidden_dim, num_layers, out_channels, cnnfilter_size, cnnfilter_stride, cnn_pad, use_bias, num_classes, use_maxpool, pool_size, pool_stride, use_batchnorm, eps, momentum, affine, dropout)\u001b[0m\n\u001b[1;32m     57\u001b[0m \u001b[0;34m\u001b[0m\u001b[0m\n\u001b[1;32m     58\u001b[0m         \u001b[0;31m#Fully Connected Layers\u001b[0m\u001b[0;34m\u001b[0m\u001b[0;34m\u001b[0m\u001b[0;34m\u001b[0m\u001b[0m\n\u001b[0;32m---> 59\u001b[0;31m         \u001b[0mself\u001b[0m\u001b[0;34m.\u001b[0m\u001b[0mFC1\u001b[0m \u001b[0;34m=\u001b[0m \u001b[0mnn\u001b[0m\u001b[0;34m.\u001b[0m\u001b[0mLinear\u001b[0m\u001b[0;34m(\u001b[0m\u001b[0mself\u001b[0m\u001b[0;34m.\u001b[0m\u001b[0mCNN_Block3\u001b[0m\u001b[0;34m.\u001b[0m\u001b[0mLout\u001b[0m\u001b[0;34m*\u001b[0m\u001b[0mself\u001b[0m\u001b[0;34m.\u001b[0m\u001b[0mCNN_Block3\u001b[0m\u001b[0;34m.\u001b[0m\u001b[0mout_channels\u001b[0m\u001b[0;34m,\u001b[0m \u001b[0mself\u001b[0m\u001b[0;34m.\u001b[0m\u001b[0mCNN_Block3\u001b[0m\u001b[0;34m.\u001b[0m\u001b[0mLout\u001b[0m\u001b[0;34m)\u001b[0m\u001b[0;34m\u001b[0m\u001b[0;34m\u001b[0m\u001b[0m\n\u001b[0m\u001b[1;32m     60\u001b[0m \u001b[0;34m\u001b[0m\u001b[0m\n\u001b[1;32m     61\u001b[0m         \u001b[0;31m#Dropout in between\u001b[0m\u001b[0;34m\u001b[0m\u001b[0;34m\u001b[0m\u001b[0;34m\u001b[0m\u001b[0m\n",
            "\u001b[0;32m/content/gdrive/My Drive/Colab Notebooks/ECE_Project/CombinationModel_LSTM_FCN.py\u001b[0m in \u001b[0;36m__init__\u001b[0;34m(self, in_channels, seq_len, hidden_dim, num_layers, out_channels, cnnfilter_size, cnnfilter_stride, cnn_pad, use_bias, num_classes, use_maxpool, pool_size, pool_stride, use_batchnorm, eps, momentum, affine, dropout)\u001b[0m\n\u001b[1;32m     57\u001b[0m \u001b[0;34m\u001b[0m\u001b[0m\n\u001b[1;32m     58\u001b[0m         \u001b[0;31m#Fully Connected Layers\u001b[0m\u001b[0;34m\u001b[0m\u001b[0;34m\u001b[0m\u001b[0;34m\u001b[0m\u001b[0m\n\u001b[0;32m---> 59\u001b[0;31m         \u001b[0mself\u001b[0m\u001b[0;34m.\u001b[0m\u001b[0mFC1\u001b[0m \u001b[0;34m=\u001b[0m \u001b[0mnn\u001b[0m\u001b[0;34m.\u001b[0m\u001b[0mLinear\u001b[0m\u001b[0;34m(\u001b[0m\u001b[0mself\u001b[0m\u001b[0;34m.\u001b[0m\u001b[0mCNN_Block3\u001b[0m\u001b[0;34m.\u001b[0m\u001b[0mLout\u001b[0m\u001b[0;34m*\u001b[0m\u001b[0mself\u001b[0m\u001b[0;34m.\u001b[0m\u001b[0mCNN_Block3\u001b[0m\u001b[0;34m.\u001b[0m\u001b[0mout_channels\u001b[0m\u001b[0;34m,\u001b[0m \u001b[0mself\u001b[0m\u001b[0;34m.\u001b[0m\u001b[0mCNN_Block3\u001b[0m\u001b[0;34m.\u001b[0m\u001b[0mLout\u001b[0m\u001b[0;34m)\u001b[0m\u001b[0;34m\u001b[0m\u001b[0;34m\u001b[0m\u001b[0m\n\u001b[0m\u001b[1;32m     60\u001b[0m \u001b[0;34m\u001b[0m\u001b[0m\n\u001b[1;32m     61\u001b[0m         \u001b[0;31m#Dropout in between\u001b[0m\u001b[0;34m\u001b[0m\u001b[0;34m\u001b[0m\u001b[0;34m\u001b[0m\u001b[0m\n",
            "\u001b[0;32m/usr/lib/python3.6/bdb.py\u001b[0m in \u001b[0;36mtrace_dispatch\u001b[0;34m(self, frame, event, arg)\u001b[0m\n\u001b[1;32m     49\u001b[0m             \u001b[0;32mreturn\u001b[0m \u001b[0;31m# None\u001b[0m\u001b[0;34m\u001b[0m\u001b[0;34m\u001b[0m\u001b[0m\n\u001b[1;32m     50\u001b[0m         \u001b[0;32mif\u001b[0m \u001b[0mevent\u001b[0m \u001b[0;34m==\u001b[0m \u001b[0;34m'line'\u001b[0m\u001b[0;34m:\u001b[0m\u001b[0;34m\u001b[0m\u001b[0;34m\u001b[0m\u001b[0m\n\u001b[0;32m---> 51\u001b[0;31m             \u001b[0;32mreturn\u001b[0m \u001b[0mself\u001b[0m\u001b[0;34m.\u001b[0m\u001b[0mdispatch_line\u001b[0m\u001b[0;34m(\u001b[0m\u001b[0mframe\u001b[0m\u001b[0;34m)\u001b[0m\u001b[0;34m\u001b[0m\u001b[0;34m\u001b[0m\u001b[0m\n\u001b[0m\u001b[1;32m     52\u001b[0m         \u001b[0;32mif\u001b[0m \u001b[0mevent\u001b[0m \u001b[0;34m==\u001b[0m \u001b[0;34m'call'\u001b[0m\u001b[0;34m:\u001b[0m\u001b[0;34m\u001b[0m\u001b[0;34m\u001b[0m\u001b[0m\n\u001b[1;32m     53\u001b[0m             \u001b[0;32mreturn\u001b[0m \u001b[0mself\u001b[0m\u001b[0;34m.\u001b[0m\u001b[0mdispatch_call\u001b[0m\u001b[0;34m(\u001b[0m\u001b[0mframe\u001b[0m\u001b[0;34m,\u001b[0m \u001b[0marg\u001b[0m\u001b[0;34m)\u001b[0m\u001b[0;34m\u001b[0m\u001b[0;34m\u001b[0m\u001b[0m\n",
            "\u001b[0;32m/usr/lib/python3.6/bdb.py\u001b[0m in \u001b[0;36mdispatch_line\u001b[0;34m(self, frame)\u001b[0m\n\u001b[1;32m     68\u001b[0m         \u001b[0;32mif\u001b[0m \u001b[0mself\u001b[0m\u001b[0;34m.\u001b[0m\u001b[0mstop_here\u001b[0m\u001b[0;34m(\u001b[0m\u001b[0mframe\u001b[0m\u001b[0;34m)\u001b[0m \u001b[0;32mor\u001b[0m \u001b[0mself\u001b[0m\u001b[0;34m.\u001b[0m\u001b[0mbreak_here\u001b[0m\u001b[0;34m(\u001b[0m\u001b[0mframe\u001b[0m\u001b[0;34m)\u001b[0m\u001b[0;34m:\u001b[0m\u001b[0;34m\u001b[0m\u001b[0;34m\u001b[0m\u001b[0m\n\u001b[1;32m     69\u001b[0m             \u001b[0mself\u001b[0m\u001b[0;34m.\u001b[0m\u001b[0muser_line\u001b[0m\u001b[0;34m(\u001b[0m\u001b[0mframe\u001b[0m\u001b[0;34m)\u001b[0m\u001b[0;34m\u001b[0m\u001b[0;34m\u001b[0m\u001b[0m\n\u001b[0;32m---> 70\u001b[0;31m             \u001b[0;32mif\u001b[0m \u001b[0mself\u001b[0m\u001b[0;34m.\u001b[0m\u001b[0mquitting\u001b[0m\u001b[0;34m:\u001b[0m \u001b[0;32mraise\u001b[0m \u001b[0mBdbQuit\u001b[0m\u001b[0;34m\u001b[0m\u001b[0;34m\u001b[0m\u001b[0m\n\u001b[0m\u001b[1;32m     71\u001b[0m         \u001b[0;32mreturn\u001b[0m \u001b[0mself\u001b[0m\u001b[0;34m.\u001b[0m\u001b[0mtrace_dispatch\u001b[0m\u001b[0;34m\u001b[0m\u001b[0;34m\u001b[0m\u001b[0m\n\u001b[1;32m     72\u001b[0m \u001b[0;34m\u001b[0m\u001b[0m\n",
            "\u001b[0;31mBdbQuit\u001b[0m: "
          ]
        }
      ]
    },
    {
      "cell_type": "code",
      "metadata": {
        "id": "DKI0pKh-ZG4e",
        "colab_type": "code",
        "colab": {}
      },
      "source": [
        ""
      ],
      "execution_count": 0,
      "outputs": []
    }
  ]
}